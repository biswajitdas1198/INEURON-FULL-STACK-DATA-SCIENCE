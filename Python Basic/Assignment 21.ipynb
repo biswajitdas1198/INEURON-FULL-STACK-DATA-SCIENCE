{
 "cells": [
  {
   "cell_type": "markdown",
   "metadata": {},
   "source": [
    "## Assignment 21 Solutions\n",
    "### 1. Add the current date to the text file today.txt as a string."
   ]
  },
  {
   "cell_type": "code",
   "execution_count": 1,
   "metadata": {},
   "outputs": [
    {
     "name": "stdout",
     "output_type": "stream",
     "text": [
      "28-08-2023\n"
     ]
    }
   ],
   "source": [
    "import datetime\n",
    "# Code to Add current date to the today.txt file\n",
    "file = open('today.txt','w')\n",
    "file.write(datetime.datetime.now().strftime(\"%d-%m-%Y\"))\n",
    "file.close()\n",
    "# Code to Read current date from today.txt file\n",
    "file = open('today.txt','r')\n",
    "print(file.read())\n",
    "file.close()"
   ]
  },
  {
   "cell_type": "markdown",
   "metadata": {},
   "source": [
    "### 2. Read the text file today.txt into the string today_string"
   ]
  },
  {
   "cell_type": "code",
   "execution_count": 4,
   "metadata": {},
   "outputs": [
    {
     "name": "stdout",
     "output_type": "stream",
     "text": [
      "28-08-2023\n"
     ]
    }
   ],
   "source": [
    "file = open('today.txt','r')\n",
    "today_string = file.read()\n",
    "print(today_string)"
   ]
  },
  {
   "cell_type": "markdown",
   "metadata": {},
   "source": [
    "### 3. Parse the date from today_string."
   ]
  },
  {
   "cell_type": "code",
   "execution_count": 5,
   "metadata": {},
   "outputs": [
    {
     "name": "stdout",
     "output_type": "stream",
     "text": [
      "2023-08-28 00:00:00\n"
     ]
    }
   ],
   "source": [
    "from datetime import datetime\n",
    "parsed_data = datetime.strptime(today_string, '%d-%m-%Y')\n",
    "print(parsed_data)"
   ]
  },
  {
   "cell_type": "markdown",
   "metadata": {},
   "source": [
    "### 4. List the files in your current directory"
   ]
  },
  {
   "cell_type": "code",
   "execution_count": 6,
   "metadata": {},
   "outputs": [
    {
     "name": "stdout",
     "output_type": "stream",
     "text": [
      "application_log.txt\n",
      "Assignment 1.ipynb\n",
      "Assignment 10.ipynb\n",
      "Assignment 11.ipynb\n",
      "Assignment 12.ipynb\n",
      "Assignment 13.ipynb\n",
      "Assignment 14.ipynb\n",
      "Assignment 15.ipynb\n",
      "Assignment 16.ipynb\n",
      "Assignment 17.ipynb\n",
      "Assignment 18.ipynb\n",
      "Assignment 19.ipynb\n",
      "Assignment 2.ipynb\n",
      "Assignment 20.ipynb\n",
      "Assignment 21.ipynb\n",
      "Assignment 3.ipynb\n",
      "Assignment 4.ipynb\n",
      "Assignment 6.ipynb\n",
      "Assignment 7.ipynb\n",
      "Assignment 8.ipynb\n",
      "Assignment 9.ipynb\n",
      "Pic.jpg\n",
      "pic2.jpg\n",
      "Python coding assignment 1.ipynb\n",
      "Python coding assignment 10.ipynb\n",
      "Python coding assignment 11.ipynb\n",
      "Python coding assignment 12.ipynb\n",
      "Python coding assignment 13.ipynb\n",
      "Python coding assignment 14.ipynb\n",
      "Python coding assignment 15.ipynb\n",
      "Python coding assignment 16.ipynb\n",
      "Python coding assignment 17.ipynb\n",
      "Python coding assignment 18.ipynb\n",
      "Python coding assignment 19.ipynb\n",
      "Python coding assignment 2.ipynb\n",
      "Python coding assignment 3.ipynb\n",
      "Python coding assignment 4.ipynb\n",
      "Python coding assignment 5.ipynb\n",
      "Python coding assignment 6.ipynb\n",
      "Python coding assignment 7.ipynb\n",
      "Python coding assignment 8.ipynb\n",
      "Python coding assignment 9.ipynb\n",
      "text.csv\n",
      "text.csv.txt\n",
      "today.txt\n",
      "university_records.csv\n",
      "zoo.py\n",
      "zoo.cpython-39.pyc\n"
     ]
    }
   ],
   "source": [
    "import os\n",
    "for folders, subfolders, files in os.walk(os.getcwd()):\n",
    "    for file in files:\n",
    "        print(file)"
   ]
  },
  {
   "cell_type": "markdown",
   "metadata": {},
   "source": [
    "### 5. Create a list of all of the files in your parent directory (minimum five files should be available)."
   ]
  },
  {
   "cell_type": "code",
   "execution_count": 7,
   "metadata": {},
   "outputs": [
    {
     "data": {
      "text/plain": [
       "['application_log.txt',\n",
       " 'Assignment 1.ipynb',\n",
       " 'Assignment 10.ipynb',\n",
       " 'Assignment 11.ipynb',\n",
       " 'Assignment 12.ipynb',\n",
       " 'Assignment 13.ipynb',\n",
       " 'Assignment 14.ipynb',\n",
       " 'Assignment 15.ipynb',\n",
       " 'Assignment 16.ipynb',\n",
       " 'Assignment 17.ipynb',\n",
       " 'Assignment 18.ipynb',\n",
       " 'Assignment 19.ipynb',\n",
       " 'Assignment 2.ipynb',\n",
       " 'Assignment 20.ipynb',\n",
       " 'Assignment 21.ipynb',\n",
       " 'Assignment 3.ipynb',\n",
       " 'Assignment 4.ipynb',\n",
       " 'Assignment 6.ipynb',\n",
       " 'Assignment 7.ipynb',\n",
       " 'Assignment 8.ipynb',\n",
       " 'Assignment 9.ipynb',\n",
       " 'Pic.jpg',\n",
       " 'pic2.jpg',\n",
       " 'Python coding assignment 1.ipynb',\n",
       " 'Python coding assignment 10.ipynb',\n",
       " 'Python coding assignment 11.ipynb',\n",
       " 'Python coding assignment 12.ipynb',\n",
       " 'Python coding assignment 13.ipynb',\n",
       " 'Python coding assignment 14.ipynb',\n",
       " 'Python coding assignment 15.ipynb',\n",
       " 'Python coding assignment 16.ipynb',\n",
       " 'Python coding assignment 17.ipynb',\n",
       " 'Python coding assignment 18.ipynb',\n",
       " 'Python coding assignment 19.ipynb',\n",
       " 'Python coding assignment 2.ipynb',\n",
       " 'Python coding assignment 3.ipynb',\n",
       " 'Python coding assignment 4.ipynb',\n",
       " 'Python coding assignment 5.ipynb',\n",
       " 'Python coding assignment 6.ipynb',\n",
       " 'Python coding assignment 7.ipynb',\n",
       " 'Python coding assignment 8.ipynb',\n",
       " 'Python coding assignment 9.ipynb',\n",
       " 'text.csv',\n",
       " 'text.csv.txt',\n",
       " 'today.txt',\n",
       " 'university_records.csv',\n",
       " 'zoo.py',\n",
       " '__pycache__']"
      ]
     },
     "execution_count": 7,
     "metadata": {},
     "output_type": "execute_result"
    }
   ],
   "source": [
    "import os \n",
    "os.listdir()"
   ]
  },
  {
   "cell_type": "markdown",
   "metadata": {},
   "source": [
    "### 6. Use multiprocessing to create three separate processes. Make each one wait a random number of seconds between one and five, print the current time, and then exit."
   ]
  },
  {
   "cell_type": "code",
   "execution_count": 8,
   "metadata": {},
   "outputs": [],
   "source": [
    "import multiprocessing\n",
    "import time \n",
    "import random\n",
    "import datetime\n",
    "\n",
    "def procOne():\n",
    "    print(f'Proc_one_Starttime -> {datetime.datetime.now()}')\n",
    "    time.sleep(random.randint(1,5))\n",
    "    print(f'Proc_one_Endtime -> {datetime.datetime.now()}')\n",
    "    \n",
    "def procTwo():\n",
    "    print(f'Proc_two_Starttime -> {datetime.datetime.now()}')\n",
    "    time.sleep(random.randint(1,5))\n",
    "    print(f'Proc_two_Endtime -> {datetime.datetime.now()}')\n",
    "\n",
    "def procThree():\n",
    "    print(f'Proc_two_Starttime -> {datetime.datetime.now()}')\n",
    "    time.sleep(random.randint(1,5))\n",
    "    print(f'Proc_two_Endtime -> {datetime.datetime.now()}')\n",
    "    \n",
    "if __name__ == \"__main__\":    \n",
    "    p1 = multiprocessing.Process(target=procOne)\n",
    "    p2 = multiprocessing.Process(target=procTwo)\n",
    "    p3 = multiprocessing.Process(target=procThree)\n",
    "\n",
    "    p1.start()\n",
    "    p2.start()\n",
    "    p3.start()\n",
    "\n",
    "    p1.join()\n",
    "    p2.join()\n",
    "    p3.join()"
   ]
  },
  {
   "cell_type": "markdown",
   "metadata": {},
   "source": [
    "Due to some unknown reason. the above did not print any results in the jupyter cell. so i copied the code to a python file. executed it and pasted the ouput here\n",
    "(base) C:\\Users\\biswa\\Desktop>python es_poc.py\n",
    "Proc_one_Starttime -> 2021-09-22 18:41:59.354061\n",
    "Proc_two_Starttime -> 2021-09-22 18:41:59.363712\n",
    "Proc_two_Starttime -> 2021-09-22 18:41:59.367238\n",
    "Proc_two_Endtime -> 2021-09-22 18:42:04.369860\n",
    "Proc_two_Endtime -> 2021-09-22 18:42:04.369860\n",
    "Proc_one_Endtime -> 2021-09-22 18:42:04.369860"
   ]
  },
  {
   "cell_type": "markdown",
   "metadata": {},
   "source": [
    "### 7. Create a date object of your day of birth."
   ]
  },
  {
   "cell_type": "code",
   "execution_count": 9,
   "metadata": {},
   "outputs": [
    {
     "name": "stdout",
     "output_type": "stream",
     "text": [
      "1998-01-01 00:00:00 <class 'datetime.datetime'>\n"
     ]
    }
   ],
   "source": [
    "from datetime import datetime\n",
    "my_dob = datetime.strptime('01/01/1998','%d/%m/%Y')\n",
    "print(my_dob, type(my_dob))"
   ]
  },
  {
   "cell_type": "markdown",
   "metadata": {},
   "source": [
    "\n",
    "### 8. What day of the week was your day of birth?"
   ]
  },
  {
   "cell_type": "code",
   "execution_count": 10,
   "metadata": {},
   "outputs": [
    {
     "data": {
      "text/plain": [
       "'Thursday'"
      ]
     },
     "execution_count": 10,
     "metadata": {},
     "output_type": "execute_result"
    }
   ],
   "source": [
    "from datetime import datetime\n",
    "my_dob = datetime(1998,1,1)\n",
    "my_dob.strftime(\"%A\")"
   ]
  },
  {
   "cell_type": "markdown",
   "metadata": {},
   "source": [
    "### 9. When will you be (or when were you) 10,000 days old?"
   ]
  },
  {
   "cell_type": "code",
   "execution_count": 12,
   "metadata": {},
   "outputs": [
    {
     "data": {
      "text/plain": [
       "datetime.datetime(1970, 8, 16, 0, 0)"
      ]
     },
     "execution_count": 12,
     "metadata": {},
     "output_type": "execute_result"
    }
   ],
   "source": [
    "from datetime import datetime, timedelta\n",
    "my_dob = datetime.strptime(\"01/01/1998\",'%d/%m/%Y')\n",
    "future_date = my_dob-timedelta(10000)\n",
    "future_date"
   ]
  }
 ],
 "metadata": {
  "kernelspec": {
   "display_name": "base",
   "language": "python",
   "name": "python3"
  },
  "language_info": {
   "codemirror_mode": {
    "name": "ipython",
    "version": 3
   },
   "file_extension": ".py",
   "mimetype": "text/x-python",
   "name": "python",
   "nbconvert_exporter": "python",
   "pygments_lexer": "ipython3",
   "version": "3.9.13"
  },
  "orig_nbformat": 4
 },
 "nbformat": 4,
 "nbformat_minor": 2
}
